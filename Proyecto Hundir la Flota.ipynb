{
 "cells": [
  {
   "cell_type": "markdown",
   "metadata": {},
   "source": [
    "![imagen](./img/hundir-la-flota-juego-de-mesa.jpg)"
   ]
  },
  {
   "cell_type": "markdown",
   "metadata": {},
   "source": [
    "En esta entrega vas a crear tu propio juego de **Hundir la flota** en Python. \n",
    "[Aquí](http://es.battleship-game.org/) podrás probarlo online."
   ]
  },
  {
   "attachments": {},
   "cell_type": "markdown",
   "metadata": {},
   "source": [
    "### En clase\n",
    "1. Crea la función `crear_tablero(tamaño)`, un tablero por defecto de 10x10 relleno del carácter \"_\" con numpy.\n",
    "2. Crea la función `colocar_barco(barco, tablero)`, que recibirá la lista de casillas de un barco y el tablero donde colocarlo. Prueba primero a posicionar un par de barcos por ejemplo en [(0,1), (1,1)] y [(1,3), (1,4), (1,5), (1,6)]. Los barcos serán Os mayúsculas. Como ves, un barco de dos posiciones de eslora y otro de cuatro.\n",
    "3. Crea la función `disparar(casilla, tablero)`, si el disparo acierta en un barco sustituye la O por una X (tocado), si es agua, sustituye la _ por una A (Agua). Prueba primero a disparar el barco de 2 casillas.\n",
    "4. Crea la función `crear_barco(eslora)`, que deberá crear una lista de casillas de un barco en función a la eslora, de forma aleatoria.\n",
    "\n",
    "### Proyecto individual\n",
    "5. Crea la función `colocar_barcos(tablero)`, que deberá de colocar la lista de barcos generados de forma aleatoria (6 barcos en total (3 barcos de eslora 2, 2 de eslora 3 y 1 eslora 4)) ¡Mucho ojo con barcos que estén superpuestos (no pueden ocupar dos barcos la misma casilla) o barcos que se salgan del tablero!\n",
    "6. Escribe el flujo completo del programa, con la dinámica de turnos y funcionalidades necesarios para jugar contra la máquina (dispara a tu tablero de forma aleatoria). Crea todas las funciones que necesites y aplica todo lo aprendido que te sea útil.\n",
    "7. Encapsula todo en un `main.py` y un `utils.py` para ejecutarlo desde terminal.\n",
    "8. Sube tu proyecto a un repositorio de github y prepara una demo (solo se podrá enseñar desde terminal) para la presentación de tu proyecto."
   ]
  },
  {
   "cell_type": "markdown",
   "metadata": {},
   "source": [
    "## Presentación\n",
    "Cada uno realizará una presentación el **viernes 24 de Octubre**, donde se contarán con **10 minutos máximo**, importante ceñirse al tiempo. Se tendrá que enseñar:\n",
    "1. El git clone del repositorio de github a tu ordenador y explicar las partes más relevantes del código.\n",
    "2. Una demo donde se muestre el correcto funcionamiento del código para jugar, ejecutándose desde terminal"
   ]
  },
  {
   "cell_type": "code",
   "execution_count": 75,
   "metadata": {},
   "outputs": [],
   "source": [
    "import numpy as np\n",
    "\n",
    "\n",
    "\n",
    "\n",
    "def tablero():\n",
    "    tablero = np.full((10,10), \" \")\n",
    "    return tablero\n"
   ]
  },
  {
   "cell_type": "code",
   "execution_count": 47,
   "metadata": {},
   "outputs": [
    {
     "name": "stdout",
     "output_type": "stream",
     "text": [
      "Tablero_jugador\n",
      "[[' ' ' ' ' ' ' ' ' ' ' ' ' ' ' ' ' ' ' ']\n",
      " [' ' ' ' ' ' ' ' ' ' ' ' ' ' ' ' ' ' ' ']\n",
      " [' ' ' ' ' ' ' ' ' ' ' ' ' ' ' ' ' ' ' ']\n",
      " [' ' ' ' ' ' ' ' ' ' ' ' ' ' ' ' ' ' ' ']\n",
      " [' ' ' ' ' ' ' ' ' ' ' ' ' ' ' ' ' ' ' ']\n",
      " [' ' ' ' ' ' ' ' ' ' ' ' ' ' ' ' ' ' ' ']\n",
      " [' ' ' ' ' ' ' ' ' ' ' ' ' ' ' ' ' ' ' ']\n",
      " [' ' ' ' ' ' ' ' ' ' ' ' ' ' ' ' ' ' ' ']\n",
      " [' ' ' ' ' ' ' ' ' ' ' ' ' ' ' ' ' ' ' ']\n",
      " [' ' ' ' ' ' ' ' ' ' ' ' ' ' ' ' ' ' ' ']]\n",
      "___________________________________________\n",
      "Tablero_rival\n",
      "[[' ' ' ' ' ' ' ' ' ' ' ' ' ' ' ' ' ' ' ']\n",
      " [' ' ' ' ' ' ' ' ' ' ' ' ' ' ' ' ' ' ' ']\n",
      " [' ' ' ' ' ' ' ' ' ' ' ' ' ' ' ' ' ' ' ']\n",
      " [' ' ' ' ' ' ' ' ' ' ' ' ' ' ' ' ' ' ' ']\n",
      " [' ' ' ' ' ' ' ' ' ' ' ' ' ' ' ' ' ' ' ']\n",
      " [' ' ' ' ' ' ' ' ' ' ' ' ' ' ' ' ' ' ' ']\n",
      " [' ' ' ' ' ' ' ' ' ' ' ' ' ' ' ' ' ' ' ']\n",
      " [' ' ' ' ' ' ' ' ' ' ' ' ' ' ' ' ' ' ' ']\n",
      " [' ' ' ' ' ' ' ' ' ' ' ' ' ' ' ' ' ' ' ']\n",
      " [' ' ' ' ' ' ' ' ' ' ' ' ' ' ' ' ' ' ' ']]\n"
     ]
    }
   ],
   "source": [
    "tablero_jugador = tablero()\n",
    "tablero_rival = tablero()\n",
    "print(\"Tablero_jugador\")\n",
    "print(tablero_jugador)\n",
    "print(\"___________________________________________\")\n",
    "print(\"Tablero_rival\")\n",
    "print(tablero_rival)\n",
    "\n"
   ]
  },
  {
   "cell_type": "code",
   "execution_count": 8,
   "metadata": {},
   "outputs": [
    {
     "data": {
      "text/plain": [
       "'\\nCreación de barcos de distinta logitud (eslora = longitud del barco):\\n\\n3 barcos de 2 casillas -> (barco_1, barco_2, barco_3)\\n\\n2 barcos de 3 casillas -> (barco_4, barco_5)\\n\\n1 barco de 4 casillas -> (barco_6)\\n\\n\\nBARCO: cuando en la casilla aparece un 0, casilla = 0\\n\\nAGUA: cuando en la casilla aparece una -, casilla = -\\n\\nTOCADO: cuando en la casilla aparece una x, casilla = x\\n\\n\\n# Posiciones aleatorias: horizontales y verticales\\n\\n'"
      ]
     },
     "execution_count": 8,
     "metadata": {},
     "output_type": "execute_result"
    }
   ],
   "source": [
    "\"\"\"\n",
    "Creación de barcos de distinta logitud (eslora = longitud del barco):\n",
    "\n",
    "3 barcos de 2 casillas -> (barco_1, barco_2, barco_3)\n",
    "\n",
    "2 barcos de 3 casillas -> (barco_4, barco_5)\n",
    "\n",
    "1 barco de 4 casillas -> (barco_6)\n",
    "\n",
    "\n",
    "BARCO: cuando en la casilla aparece un 0, casilla = 0\n",
    "\n",
    "AGUA: cuando en la casilla aparece una -, casilla = -\n",
    "\n",
    "TOCADO: cuando en la casilla aparece una x, casilla = x\n",
    "\n",
    "\n",
    "# Posiciones aleatorias: horizontales y verticales\n",
    "\n",
    "\"\"\""
   ]
  },
  {
   "cell_type": "code",
   "execution_count": 63,
   "metadata": {},
   "outputs": [],
   "source": [
    "#FUNCIÓN PARA CREAR BARCOS\n",
    "\n",
    "import random\n",
    "\n",
    "def crear_barco(eslora, tamaño=10): \n",
    "    fila = random.randint(0, tamaño - 1)\n",
    "    columna = random.randint(0, tamaño - 1)\n",
    "    direccion = random.choice([\"horizontal\", \"vertical\"])\n",
    "    barco = []\n",
    "\n",
    "    for i in range(eslora):\n",
    "        if direccion == \"horizontal\" and columna + eslora <= tamaño:\n",
    "            barco.append((fila, columna + i))\n",
    "        elif direccion == \"vertical\" and fila + eslora <= tamaño:\n",
    "            barco.append((fila + i, columna))\n",
    "        else:\n",
    "            # Si el barco se sale del tablero, se repite\n",
    "            return crear_barco(eslora, tamaño)\n",
    "    return barco\n",
    "\n",
    "\n"
   ]
  },
  {
   "cell_type": "code",
   "execution_count": 27,
   "metadata": {},
   "outputs": [
    {
     "name": "stdout",
     "output_type": "stream",
     "text": [
      "[(6, 5), (6, 6)]\n",
      "[(4, 7), (4, 8)]\n",
      "[(4, 3), (5, 3)]\n"
     ]
    }
   ],
   "source": [
    "# 3 Barcos de 2 casillas, tablero_jugador (barco_1, barco_2, barco_3)\n",
    "\n",
    "barco_1 = crear_barco(2,tamaño=10)\n",
    "print(barco_1)\n",
    "\n",
    "\n",
    "barco_2 = crear_barco(2,tamaño=10)\n",
    "print(barco_2)\n",
    "\n",
    "\n",
    "barco_3 = crear_barco(2,tamaño=10)\n",
    "print(barco_3)"
   ]
  },
  {
   "cell_type": "code",
   "execution_count": 28,
   "metadata": {},
   "outputs": [
    {
     "name": "stdout",
     "output_type": "stream",
     "text": [
      "[(5, 0), (5, 1), (5, 2)]\n",
      "[(6, 7), (7, 7), (8, 7)]\n"
     ]
    }
   ],
   "source": [
    "# 2 Barcos de 3 casillas, tablero_jugador (barco_4, barco_5)\n",
    "\n",
    "barco_4 = crear_barco(3,tamaño=10)\n",
    "print(barco_4)\n",
    "\n",
    "\n",
    "barco_5 = crear_barco(3,tamaño=10)\n",
    "print(barco_5)"
   ]
  },
  {
   "cell_type": "code",
   "execution_count": 29,
   "metadata": {},
   "outputs": [
    {
     "name": "stdout",
     "output_type": "stream",
     "text": [
      "[(5, 5), (6, 5), (7, 5), (8, 5)]\n"
     ]
    }
   ],
   "source": [
    "# 2 Barcos de 4 casillas, tablero_jugador (barco_6)\n",
    "\n",
    "barco_6 = crear_barco(4,tamaño=10)\n",
    "print(barco_6)"
   ]
  },
  {
   "cell_type": "code",
   "execution_count": 30,
   "metadata": {},
   "outputs": [
    {
     "name": "stdout",
     "output_type": "stream",
     "text": [
      "[(1, 0), (2, 0)]\n",
      "[(2, 3), (3, 3)]\n",
      "[(4, 2), (5, 2)]\n"
     ]
    }
   ],
   "source": [
    "# 3 Barcos de 2 casillas, tablero_jugador (barco_1, barco_2, barco_3)\n",
    "\n",
    "barco_riv1 = crear_barco(2,tamaño=10)\n",
    "print(barco_riv1)\n",
    "\n",
    "\n",
    "barco_riv2 = crear_barco(2,tamaño=10)\n",
    "print(barco_riv2)\n",
    "\n",
    "\n",
    "barco_riv3 = crear_barco(2,tamaño=10)\n",
    "print(barco_riv3)"
   ]
  },
  {
   "cell_type": "code",
   "execution_count": 31,
   "metadata": {},
   "outputs": [
    {
     "name": "stdout",
     "output_type": "stream",
     "text": [
      "[(6, 6), (6, 7), (6, 8)]\n",
      "[(3, 5), (4, 5), (5, 5)]\n"
     ]
    }
   ],
   "source": [
    "# 2 Barcos de 3 casillas, tablero_jugador (barco_4, barco_5)\n",
    "\n",
    "barco_riv4 = crear_barco(3,tamaño=10)\n",
    "print(barco_riv4)\n",
    "\n",
    "\n",
    "barco_riv5 = crear_barco(3,tamaño=10)\n",
    "print(barco_riv5)"
   ]
  },
  {
   "cell_type": "code",
   "execution_count": 32,
   "metadata": {},
   "outputs": [
    {
     "name": "stdout",
     "output_type": "stream",
     "text": [
      "[(8, 5), (8, 6), (8, 7), (8, 8)]\n"
     ]
    }
   ],
   "source": [
    "# 2 Barcos de 4 casillas, tablero_jugador (barco_6)\n",
    "\n",
    "barco_riv6 = crear_barco(4,tamaño=10)\n",
    "print(barco_riv6)"
   ]
  },
  {
   "cell_type": "code",
   "execution_count": 72,
   "metadata": {},
   "outputs": [],
   "source": [
    "\n",
    "\"\"\"COLOCAR BARCOS EN EL TABLERO\"\"\"\n",
    "\n",
    "import numpy as np\n",
    "def tablero():\n",
    "    tablero = np.full((10,10), \" \")\n",
    "    return tablero\n",
    "\n",
    "def colocar_barco(barco, tablero):\n",
    "    for fila, columna in barco:\n",
    "        tablero[int(fila)][int(columna)] = \"O\"\n",
    "    return tablero"
   ]
  },
  {
   "cell_type": "code",
   "execution_count": 73,
   "metadata": {},
   "outputs": [
    {
     "name": "stdout",
     "output_type": "stream",
     "text": [
      "[[' ' ' ' ' ' ' ' ' ' ' ' ' ' ' ' ' ' ' ']\n",
      " [' ' ' ' ' ' ' ' ' ' ' ' ' ' ' ' ' ' ' ']\n",
      " [' ' ' ' ' ' ' ' ' ' ' ' ' ' ' ' ' ' ' ']\n",
      " [' ' ' ' ' ' ' ' 'A' ' ' ' ' ' ' ' ' ' ']\n",
      " [' ' ' ' ' ' 'O' ' ' ' ' ' ' 'O' 'O' ' ']\n",
      " ['O' 'O' 'O' 'O' ' ' 'O' ' ' ' ' ' ' ' ']\n",
      " [' ' ' ' ' ' ' ' ' ' 'O' ' ' 'O' ' ' ' ']\n",
      " [' ' ' ' ' ' ' ' ' ' 'O' ' ' 'O' ' ' ' ']\n",
      " [' ' ' ' ' ' ' ' ' ' 'O' ' ' 'O' 'O' ' ']\n",
      " [' ' ' ' ' ' ' ' ' ' ' ' ' ' ' ' 'O' ' ']]\n",
      "[[' ' ' ' ' ' ' ' ' ' ' ' ' ' ' ' ' ' ' ']\n",
      " ['O' ' ' 'A' ' ' ' ' ' ' ' ' ' ' ' ' ' ']\n",
      " ['O' ' ' ' ' 'O' ' ' ' ' ' ' ' ' ' ' ' ']\n",
      " [' ' ' ' ' ' 'O' ' ' 'O' ' ' ' ' ' ' ' ']\n",
      " [' ' ' ' 'O' ' ' ' ' 'O' ' ' ' ' ' ' ' ']\n",
      " [' ' ' ' 'O' ' ' ' ' 'O' ' ' ' ' ' ' ' ']\n",
      " [' ' ' ' ' ' ' ' ' ' ' ' 'O' 'O' 'O' ' ']\n",
      " [' ' ' ' ' ' ' ' ' ' ' ' ' ' ' ' ' ' ' ']\n",
      " [' ' ' ' ' ' ' ' ' ' 'O' 'O' 'O' 'O' ' ']\n",
      " [' ' ' ' ' ' ' ' ' ' ' ' ' ' ' ' ' ' ' ']]\n"
     ]
    }
   ],
   "source": [
    "colocar_barco(barco_1,tablero_jugador)\n",
    "colocar_barco(barco_2,tablero_jugador)\n",
    "colocar_barco(barco_3,tablero_jugador)\n",
    "colocar_barco(barco_4,tablero_jugador)\n",
    "colocar_barco(barco_5,tablero_jugador)\n",
    "colocar_barco(barco_6,tablero_jugador)\n",
    "\n",
    "print(tablero_jugador)\n",
    "\n",
    "colocar_barco(barco_riv1,tablero_rival)\n",
    "colocar_barco(barco_riv2,tablero_rival)\n",
    "colocar_barco(barco_riv3,tablero_rival)\n",
    "colocar_barco(barco_riv4,tablero_rival)\n",
    "colocar_barco(barco_riv5,tablero_rival)\n",
    "colocar_barco(barco_riv6,tablero_rival)\n",
    "\n",
    "print(tablero_rival)\n",
    "\n"
   ]
  },
  {
   "cell_type": "code",
   "execution_count": 61,
   "metadata": {},
   "outputs": [
    {
     "name": "stdout",
     "output_type": "stream",
     "text": [
      "AGUA!\n",
      "[[' ' ' ' ' ' ' ' ' ' ' ' ' ' ' ' ' ' ' ']\n",
      " [' ' ' ' 'A' ' ' ' ' ' ' ' ' ' ' ' ' ' ']\n",
      " [' ' ' ' ' ' ' ' ' ' ' ' ' ' ' ' ' ' ' ']\n",
      " [' ' ' ' ' ' ' ' ' ' ' ' ' ' ' ' ' ' ' ']\n",
      " [' ' ' ' ' ' ' ' ' ' ' ' ' ' ' ' ' ' ' ']\n",
      " [' ' ' ' ' ' ' ' ' ' ' ' ' ' ' ' ' ' ' ']\n",
      " [' ' ' ' ' ' ' ' ' ' ' ' ' ' ' ' ' ' ' ']\n",
      " [' ' ' ' ' ' ' ' ' ' ' ' ' ' ' ' ' ' ' ']\n",
      " [' ' ' ' ' ' ' ' ' ' ' ' ' ' ' ' ' ' ' ']\n",
      " [' ' ' ' ' ' ' ' ' ' ' ' ' ' ' ' ' ' ' ']]\n",
      "AGUA!\n",
      "[[' ' ' ' ' ' ' ' ' ' ' ' ' ' ' ' ' ' ' ']\n",
      " [' ' ' ' ' ' ' ' ' ' ' ' ' ' ' ' ' ' ' ']\n",
      " [' ' ' ' ' ' ' ' ' ' ' ' ' ' ' ' ' ' ' ']\n",
      " [' ' ' ' ' ' ' ' 'A' ' ' ' ' ' ' ' ' ' ']\n",
      " [' ' ' ' ' ' ' ' ' ' ' ' ' ' ' ' ' ' ' ']\n",
      " [' ' ' ' ' ' ' ' ' ' ' ' ' ' ' ' ' ' ' ']\n",
      " [' ' ' ' ' ' ' ' ' ' ' ' ' ' ' ' ' ' ' ']\n",
      " [' ' ' ' ' ' ' ' ' ' ' ' ' ' ' ' ' ' ' ']\n",
      " [' ' ' ' ' ' ' ' ' ' ' ' ' ' ' ' ' ' ' ']\n",
      " [' ' ' ' ' ' ' ' ' ' ' ' ' ' ' ' ' ' ' ']]\n"
     ]
    }
   ],
   "source": [
    "\"\"\"DISPARAR\"\"\"\n",
    "def disparar(tablero, fila, columna):\n",
    "   if tablero[fila,columna] == \"O\":\n",
    "      print(\"Tocado\")\n",
    "      tablero[fila,columna] = \"X\"\n",
    "      return tablero\n",
    "   else:\n",
    "      print(\"AGUA!\")\n",
    "      tablero[fila,columna] = \"A\"\n",
    "      return tablero\n",
    "   \n",
    "fila = int(input(\"Añade la fila: (0,9)\"))\n",
    "columna = int(input(\"Añade la columna: (0,9)\"))\n",
    "tablero_rival = tablero()\n",
    "tablero_rival_1 = disparar(tablero_rival,fila, columna)\n",
    "print(tablero_rival_1)\n",
    "\n",
    "\n",
    "fila = int(input(\"Añade la fila: (0,9)\"))\n",
    "columna = int(input(\"Añade la columna: (0,9)\"))\n",
    "tablero_jugador= tablero()\n",
    "tablero_jugador1= disparar(tablero_jugador,fila, columna)\n",
    "\n",
    "print(tablero_jugador1)"
   ]
  },
  {
   "cell_type": "code",
   "execution_count": 77,
   "metadata": {},
   "outputs": [
    {
     "name": "stdout",
     "output_type": "stream",
     "text": [
      "\n",
      "Turno del jugador 1\n",
      "Agua.\n",
      "\n",
      "Turno del jugador 2\n",
      "Agua.\n",
      "\n",
      "Turno del jugador 1\n",
      "Agua.\n",
      "\n",
      "Turno del jugador 2\n",
      "Agua.\n",
      "\n",
      "Turno del jugador 1\n",
      "Agua.\n",
      "\n",
      "Turno del jugador 2\n"
     ]
    },
    {
     "ename": "ValueError",
     "evalue": "invalid literal for int() with base 10: \"'\"",
     "output_type": "error",
     "traceback": [
      "\u001b[1;31m---------------------------------------------------------------------------\u001b[0m",
      "\u001b[1;31mValueError\u001b[0m                                Traceback (most recent call last)",
      "Cell \u001b[1;32mIn[77], line 8\u001b[0m\n\u001b[0;32m      5\u001b[0m \u001b[38;5;28;01mwhile\u001b[39;00m \u001b[38;5;28;01mTrue\u001b[39;00m:\n\u001b[0;32m      6\u001b[0m     \u001b[38;5;28mprint\u001b[39m(\u001b[38;5;124mf\u001b[39m\u001b[38;5;124m\"\u001b[39m\u001b[38;5;130;01m\\n\u001b[39;00m\u001b[38;5;124mTurno del jugador \u001b[39m\u001b[38;5;132;01m{\u001b[39;00mturno\u001b[38;5;132;01m}\u001b[39;00m\u001b[38;5;124m\"\u001b[39m)\n\u001b[1;32m----> 8\u001b[0m     fila \u001b[38;5;241m=\u001b[39m \u001b[38;5;28;43mint\u001b[39;49m\u001b[43m(\u001b[49m\u001b[38;5;28;43minput\u001b[39;49m\u001b[43m(\u001b[49m\u001b[38;5;124;43m\"\u001b[39;49m\u001b[38;5;124;43mFila (0-2): \u001b[39;49m\u001b[38;5;124;43m\"\u001b[39;49m\u001b[43m)\u001b[49m\u001b[43m)\u001b[49m\n\u001b[0;32m      9\u001b[0m     columna \u001b[38;5;241m=\u001b[39m \u001b[38;5;28mint\u001b[39m(\u001b[38;5;28minput\u001b[39m(\u001b[38;5;124m\"\u001b[39m\u001b[38;5;124mColumna (0-2): \u001b[39m\u001b[38;5;124m\"\u001b[39m))\n\u001b[0;32m     11\u001b[0m     \u001b[38;5;66;03m# Si es el turno del jugador 1, dispara al tablero del jugador 2\u001b[39;00m\n",
      "\u001b[1;31mValueError\u001b[0m: invalid literal for int() with base 10: \"'\""
     ]
    }
   ],
   "source": [
    "\"\"\"SISTEMA DE TURNOS\"\"\"\n",
    "\n",
    "turno = 1\n",
    "\n",
    "while True:\n",
    "    print(f\"\\nTurno del jugador {turno}\")\n",
    "\n",
    "    fila = int(input(\"Fila (0-2): \"))\n",
    "    columna = int(input(\"Columna (0-2): \"))\n",
    "\n",
    "    # Si es el turno del jugador 1, dispara al tablero del jugador 2\n",
    "    if turno == 1:\n",
    "        if tablero_rival[fila][columna] == \"O\":\n",
    "            print(\"¡Tocado!\")\n",
    "            tablero_rival[fila][columna] = \"X\"\n",
    "        else:\n",
    "            print(\"Agua.\")\n",
    "            tablero_rival[fila][columna] = \"A\"\n",
    "        turno = 2  # Cambia el turno\n",
    "\n",
    "    # Si es el turno del jugador 2, dispara al tablero del jugador 1\n",
    "    else:\n",
    "        if tablero_jugador[fila][columna] == \"O\":\n",
    "            print(\"¡Tocado!\")\n",
    "            tablero_jugador[fila][columna] = \"X\"\n",
    "        else:\n",
    "            print(\"Agua.\")\n",
    "            tablero_jugador[fila][columna] = \"A\"\n",
    "        turno = 1  # Cambia el turno\n",
    "\n",
    "\n"
   ]
  },
  {
   "cell_type": "code",
   "execution_count": null,
   "metadata": {},
   "outputs": [],
   "source": [
    "5"
   ]
  }
 ],
 "metadata": {
  "kernelspec": {
   "display_name": "Python 3",
   "language": "python",
   "name": "python3"
  },
  "language_info": {
   "codemirror_mode": {
    "name": "ipython",
    "version": 3
   },
   "file_extension": ".py",
   "mimetype": "text/x-python",
   "name": "python",
   "nbconvert_exporter": "python",
   "pygments_lexer": "ipython3",
   "version": "3.10.11"
  },
  "orig_nbformat": 4
 },
 "nbformat": 4,
 "nbformat_minor": 2
}
